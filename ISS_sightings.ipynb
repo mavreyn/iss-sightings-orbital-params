{
 "cells": [
  {
   "attachments": {},
   "cell_type": "markdown",
   "metadata": {},
   "source": [
    "Testing out how ipynb works just for concept code\n",
    "\n",
    "Maverick Reynolds\n",
    "01.25.2023\n",
    "\n",
    "Want to gather information in ISS sightings from any location inputed"
   ]
  },
  {
   "attachments": {},
   "cell_type": "markdown",
   "metadata": {},
   "source": [
    "### Import Libraries"
   ]
  },
  {
   "cell_type": "code",
   "execution_count": 12,
   "metadata": {},
   "outputs": [],
   "source": [
    "import geocoder"
   ]
  },
  {
   "attachments": {},
   "cell_type": "markdown",
   "metadata": {},
   "source": [
    "### Set up geocoder using Bing"
   ]
  },
  {
   "cell_type": "code",
   "execution_count": 23,
   "metadata": {},
   "outputs": [],
   "source": [
    "with open('BingKey.txt') as f:\n",
    "    API_Key = f.read()\n",
    "\n",
    "g = geocoder.bing('Oviedo FL', key=API_Key)"
   ]
  },
  {
   "attachments": {},
   "cell_type": "markdown",
   "metadata": {},
   "source": [
    "### Read Results"
   ]
  },
  {
   "cell_type": "code",
   "execution_count": 24,
   "metadata": {},
   "outputs": [
    {
     "name": "stdout",
     "output_type": "stream",
     "text": [
      "28.67028999 -81.20848083\n"
     ]
    }
   ],
   "source": [
    "results = g.json\n",
    "lat, lng = results['lat'], results['lng']\n",
    "\n",
    "print(lat, lng)"
   ]
  }
 ],
 "metadata": {
  "kernelspec": {
   "display_name": "Python 3",
   "language": "python",
   "name": "python3"
  },
  "language_info": {
   "codemirror_mode": {
    "name": "ipython",
    "version": 3
   },
   "file_extension": ".py",
   "mimetype": "text/x-python",
   "name": "python",
   "nbconvert_exporter": "python",
   "pygments_lexer": "ipython3",
   "version": "3.9.9 (tags/v3.9.9:ccb0e6a, Nov 15 2021, 18:08:50) [MSC v.1929 64 bit (AMD64)]"
  },
  "orig_nbformat": 4,
  "vscode": {
   "interpreter": {
    "hash": "1ccb10e4922a35adf13839723696fd1f270de8a9d4e16d35f8652ad696ad2883"
   }
  }
 },
 "nbformat": 4,
 "nbformat_minor": 2
}
